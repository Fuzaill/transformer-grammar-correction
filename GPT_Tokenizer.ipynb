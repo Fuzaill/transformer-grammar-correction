{
  "cells": [
    {
      "cell_type": "markdown",
      "metadata": {
        "id": "8EyF52j17pkx"
      },
      "source": [
        "# GPT-2 Text Correction Model \n"
      ]
    },
    {
      "cell_type": "code",
      "execution_count": null,
      "metadata": {
        "id": "oPpHqxskr4IV"
      },
      "outputs": [],
      "source": [
        "import os\n",
        "import numpy as np\n",
        "import pandas as pd\n",
        "\n",
        "# Define dataset directory (changed from personal path)\n",
        "DATA_DIR = \"./\"\n",
        "\n",
        "# List all files in the dataset directory\n",
        "for dirname, _, filenames in os.walk(DATA_DIR):\n",
        "    for filename in filenames:\n",
        "        if filename.endswith('.csv'):\n",
        "            print(os.path.join(dirname, filename))\n",
        "\n",
        "# Load CSV files from current directory\n",
        "train_path = os.path.join(DATA_DIR, \"train.csv\")\n",
        "validation_path = os.path.join(DATA_DIR, \"validation.csv\")\n",
        "\n",
        "if os.path.exists(train_path):\n",
        "    train_df = pd.read_csv(train_path)\n",
        "    print(\"✅ Train dataset loaded:\", train_df.shape)\n",
        "\n",
        "if os.path.exists(validation_path):\n",
        "    val_df = pd.read_csv(validation_path)\n",
        "    print(\"✅ Validation dataset loaded:\", val_df.shape)"
      ]
    },
    {
      "cell_type": "code",
      "execution_count": null,
      "metadata": {
        "id": "r0R-B_RJr4IV"
      },
      "outputs": [],
      "source": [
        "import os\n",
        "import torch\n",
        "from transformers import GPT2LMHeadModel, GPT2Tokenizer\n",
        "\n",
        "# Define paths (changed from personal path)\n",
        "TOKENIZER_PATH = \"./models/tokenizer\"\n",
        "\n",
        "# Ensure directory exists\n",
        "os.makedirs(TOKENIZER_PATH, exist_ok=True)\n",
        "\n",
        "# Load GPT-2 Tokenizer and set special tokens\n",
        "tokenizer = GPT2Tokenizer.from_pretrained(\n",
        "    'gpt2', bos_token='<|startoftext|>', eos_token='<|endoftext|>', pad_token='<|pad|>'\n",
        ")\n",
        "tokenizer.pad_token = tokenizer.eos_token  # Use EOS as pad token\n",
        "\n",
        "# Preprocessing function (EXACT same as original)\n",
        "def preprocess(example):\n",
        "    source = example['src']\n",
        "    target = example['tgt']\n",
        "\n",
        "    # Tokenize input\n",
        "    tokenized = tokenizer(source, max_length=128, padding='max_length', truncation=True, return_tensors=\"pt\")\n",
        "    target_tokenized = tokenizer(target, max_length=128, padding='max_length', truncation=True, return_tensors=\"pt\")\n",
        "\n",
        "    # Fix padding issue in labels: Replace `pad_token_id` with `-100`\n",
        "    target_tokenized[\"input_ids\"][target_tokenized[\"input_ids\"] == tokenizer.pad_token_id] = -100\n",
        "\n",
        "    return {\n",
        "        'input_ids': tokenized['input_ids'].squeeze(0),  # Remove batch dim\n",
        "        'attention_mask': tokenized['attention_mask'].squeeze(0),\n",
        "        'labels': target_tokenized['input_ids'].squeeze(0),\n",
        "    }\n",
        "\n",
        "# Save tokenizer in local directory\n",
        "tokenizer.save_pretrained(TOKENIZER_PATH)\n",
        "print(f\"Tokenizer saved at {TOKENIZER_PATH}\")"
      ]
    },
    {
      "cell_type": "code",
      "execution_count": null,
      "metadata": {
        "id": "BN4xZ7Pnr4IW"
      },
      "outputs": [],
      "source": [
        "from datasets import load_dataset\n",
        "\n",
        "train_csv_path = f\"{DATA_DIR}train.csv\"\n",
        "\n",
        "# Load dataset with correct path\n",
        "dataset = load_dataset(\"csv\", data_files={\"train\": train_csv_path})\n",
        "\n",
        "tokenized_dataset = dataset['train'].map(preprocess, batched=True).with_format(\"torch\")"
      ]
    },
    {
      "cell_type": "code",
      "execution_count": null,
      "metadata": {
        "id": "66jrw1klr4IW"
      },
      "outputs": [],
      "source": [
        "tokenized_dataset"
      ]
    },
    {
      "cell_type": "code",
      "execution_count": null,
      "metadata": {
        "id": "GyL4DEEFr4IW"
      },
      "outputs": [],
      "source": [
        "for item in tokenized_dataset:\n",
        "    print(type(item['labels']))\n",
        "    break"
      ]
    },
    {
      "cell_type": "markdown",
      "metadata": {
        "id": "-Ww-c_yWvsDX"
      },
      "source": [
        "GPT Pretrained Model"
      ]
    },
    {
      "cell_type": "code",
      "execution_count": null,
      "metadata": {
        "id": "skCbvOKVr4IW"
      },
      "outputs": [],
      "source": [
        "from transformers import GPT2Config\n",
        "configuration = GPT2Config.from_pretrained('gpt2', output_hidden_states=False)\n",
        "model = GPT2LMHeadModel.from_pretrained(\"gpt2\", config=configuration)"
      ]
    },
    {
      "cell_type": "code",
      "execution_count": null,
      "metadata": {
        "id": "S0pSN-kCr4IW"
      },
      "outputs": [],
      "source": [
        "from transformers import AdamW\n",
        "\n",
        "optimizer = AdamW(model.parameters(), lr=5e-5)"
      ]
    },
    {
      "cell_type": "code",
      "execution_count": null,
      "metadata": {
        "id": "Z7javGLcr4IW"
      },
      "outputs": [],
      "source": [
        "from torch.utils.data import DataLoader\n",
        "\n",
        "train_loader = DataLoader(tokenized_dataset, batch_size=16, shuffle=True)"
      ]
    },
    {
      "cell_type": "code",
      "execution_count": null,
      "metadata": {
        "id": "hF7dgHUfr4IW"
      },
      "outputs": [],
      "source": [
        "for batch in train_loader:\n",
        "    print(batch['input_ids'])\n",
        "\n",
        "    input_ids = batch['input_ids']\n",
        "    print(input_ids,type(input_ids))\n",
        "    attention_mask = batch['attention_mask']\n",
        "    print(attention_mask,type(attention_mask))\n",
        "    labels = batch['labels']\n",
        "    print(labels,type(labels))\n",
        "    break"
      ]
    },
    {
      "cell_type": "code",
      "execution_count": null,
      "metadata": {
        "id": "VNGqAlEb4mZp"
      },
      "outputs": [],
      "source": [
        "import torch\n",
        "print(torch.cuda.is_available())  # Should return True if GPU is available\n",
        "print(torch.cuda.device_count())  # Should return the number of GPUs\n",
        "print(\"MPS Available (Mac Only):\", torch.backends.mps.is_available())"
      ]
    },
    {
      "cell_type": "code",
      "execution_count": null,
      "metadata": {
        "id": "WPCGzr_p53nB"
      },
      "outputs": [],
      "source": [
        "from tqdm import tqdm\n",
        "import torch\n",
        "\n",
        "device = torch.device('cuda' if torch.cuda.is_available() else 'mps' if torch.backends.mps.is_available() else 'cpu')\n",
        "model.to(device)\n",
        "\n",
        "\n",
        "model.train()\n",
        "for epoch in range(5):\n",
        "    for batch in tqdm(train_loader, desc=f'Epoch {epoch+1}'):\n",
        "        # Move tensors to device\n",
        "        input_ids = batch['input_ids'].to(device)\n",
        "        attention_mask = batch['attention_mask'].to(device)\n",
        "        labels = batch['labels'].to(device)\n",
        "\n",
        "        # Debugging: Check for out-of-range values in `input_ids`\n",
        "        vocab_size = model.config.vocab_size  # Get model vocab size\n",
        "        if input_ids.max() >= vocab_size or input_ids.min() < 0:\n",
        "            print(f\"Out-of-range input_ids found! Max: {input_ids.max()}, Min: {input_ids.min()}\")\n",
        "            input_ids = input_ids.clamp(0, vocab_size - 1)  # Fix by clamping values\n",
        "\n",
        "        # Debugging: Ensure input_ids are of type Long (int64)\n",
        "        if input_ids.dtype != torch.long:\n",
        "            input_ids = input_ids.long()\n",
        "\n",
        "        # Debugging: Check for NaNs or Infs\n",
        "        if torch.isnan(input_ids).any() or torch.isinf(input_ids).any():\n",
        "            print(\"Warning: NaN or Inf found in input_ids!\")\n",
        "            input_ids = torch.nan_to_num(input_ids, nan=0.0)  # Replace NaNs with 0\n",
        "\n",
        "        # Forward pass\n",
        "        optimizer.zero_grad()\n",
        "        outputs = model(\n",
        "            input_ids=input_ids,\n",
        "            attention_mask=attention_mask,\n",
        "            labels=labels,\n",
        "        )\n",
        "        loss = outputs.loss\n",
        "        loss.backward()\n",
        "        optimizer.step()\n",
        "\n",
        "    print(f\"Epoch {epoch + 1}, Loss: {loss.item()}\")"
      ]
    },
    {
      "cell_type": "code",
      "execution_count": null,
      "metadata": {
        "id": "xTn4MpsRr4IX"
      },
      "outputs": [],
      "source": [
        "save_directory = \"./gpt_grammar_correction_model\"\n",
        "\n",
        "# Save the model\n",
        "model.save_pretrained(save_directory)\n",
        "\n",
        "# Save the tokenizer\n",
        "tokenizer.save_pretrained(save_directory)\n",
        "\n",
        "print(f\"Model and tokenizer saved to {save_directory}\")"
      ]
    },
    {
      "cell_type": "code",
      "execution_count": null,
      "metadata": {
        "id": "1Gb0I8Wkr4IX"
      },
      "outputs": [],
      "source": [
        "def correct_sentence(model, tokenizer, input_sentence, device=\"cuda\"):\n",
        "    \"\"\"\n",
        "    Generate corrected sentence from an input sentence.\n",
        "\n",
        "    Args:\n",
        "        model: Trained transformer model.\n",
        "        tokenizer: Tokenizer corresponding to the model.\n",
        "        input_sentence (str): Sentence to correct.\n",
        "        device (str): Device to run the inference on (\"cuda\" or \"cpu\").\n",
        "\n",
        "    Returns:\n",
        "        str: Corrected sentence.\n",
        "    \"\"\"\n",
        "    model.eval()\n",
        "    inputs = tokenizer(input_sentence, return_tensors=\"pt\", max_length=128, truncation=True).to(device)\n",
        "    with torch.no_grad():\n",
        "        outputs = model.generate(\n",
        "            input_ids=inputs[\"input_ids\"],\n",
        "            attention_mask=inputs[\"attention_mask\"],\n",
        "            max_length=128,\n",
        "            num_beams=5,  # For diverse beam search\n",
        "            early_stopping=True\n",
        "        )\n",
        "    return tokenizer.decode(outputs[0], skip_special_tokens=True)\n",
        "\n",
        "# Test with a sentence\n",
        "input_sentence = \"their going to the store\"\n",
        "corrected_sentence = correct_sentence(model, tokenizer, input_sentence, device=device)\n",
        "print(\"Input Sentence:\", input_sentence)\n",
        "print(\"Corrected Sentence:\", corrected_sentence)"
      ]
    }
  ],
  "metadata": {
    "kernelspec": {
      "display_name": "Python 3",
      "name": "python3"
    },
    "language_info": {
      "codemirror_mode": {
        "name": "ipython",
        "version": 3
      },
      "file_extension": ".py",
      "mimetype": "text/x-python",
      "name": "python",
      "nbconvert_exporter": "python",
      "pygments_lexer": "ipython3",
      "version": "3.10.12"
    }
  },
  "nbformat": 4,
  "nbformat_minor": 0
}
